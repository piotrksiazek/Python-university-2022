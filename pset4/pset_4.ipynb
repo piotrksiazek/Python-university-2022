{
 "cells": [
  {
   "cell_type": "markdown",
   "metadata": {},
   "source": [
    "# 4.1 \n",
    "Jaki będzie wynik poniższego kodu i dlaczego? "
   ]
  },
  {
   "cell_type": "code",
   "execution_count": 4,
   "metadata": {},
   "outputs": [
    {
     "name": "stdout",
     "output_type": "stream",
     "text": [
      "qwerty\n",
      "qwerty\n",
      "abc\n"
     ]
    }
   ],
   "source": [
    "# qwerty X to zmienna globalna\n",
    "X = \"qwerty\"\n",
    "\n",
    "def func():\n",
    "    print(X)\n",
    "\n",
    "func()\n",
    "\n",
    "# qwerty X jest modyfikowany lokalnie, ale print wcią polega na zmiennej lokalnej\n",
    "X = \"qwerty\"\n",
    "\n",
    "def func():\n",
    "    X = \"abc\"\n",
    "\n",
    "func()\n",
    "print(X)\n",
    "\n",
    "# abc poniewaz zmiana zawartości zmiennej X została wymuszona za pomocą słowa global\n",
    "X = \"qwerty\"\n",
    "\n",
    "def func():\n",
    "    global X\n",
    "    X = \"abc\"\n",
    "\n",
    "func()\n",
    "print(X)"
   ]
  },
  {
   "cell_type": "markdown",
   "metadata": {},
   "source": [
    "# 4.3\n",
    "Napisać iteracyjną wersję funkcji factorial(n) obliczającej silnię. "
   ]
  },
  {
   "cell_type": "code",
   "execution_count": 9,
   "metadata": {},
   "outputs": [
    {
     "name": "stdout",
     "output_type": "stream",
     "text": [
      "24\n"
     ]
    }
   ],
   "source": [
    "def factorial(n):\n",
    "    result = 1\n",
    "\n",
    "    for num in range(1, n + 1):\n",
    "        result = result * num\n",
    "\n",
    "    return result"
   ]
  },
  {
   "cell_type": "markdown",
   "metadata": {},
   "source": [
    "# 4.4 \n",
    "Napisać iteracyjną wersję funkcji fibonacci(n) obliczającej n-ty wyraz ciągu Fibonacciego. "
   ]
  },
  {
   "cell_type": "code",
   "execution_count": 29,
   "metadata": {},
   "outputs": [
    {
     "name": "stdout",
     "output_type": "stream",
     "text": [
      "1\n"
     ]
    }
   ],
   "source": [
    "def fibonacci(n):\n",
    "    if n < 1:\n",
    "        print(\"n must be bigger than 1\")\n",
    "        return\n",
    "\n",
    "    if n == 1 or n == 2:\n",
    "        return 1\n",
    "\n",
    "    a = 1\n",
    "    b = 1\n",
    "\n",
    "    counter = 2\n",
    "    while(counter <= n):\n",
    "        c=a+b\n",
    "        a,b = b,c\n",
    "        counter+=1\n",
    "    return c\n",
    "\n",
    "print(fibonacci(1))"
   ]
  },
  {
   "cell_type": "markdown",
   "metadata": {},
   "source": [
    "# 4.5\n",
    "Napisać funkcję odwracanie(L, left, right) odwracającą kolejność elementów na liście od numeru left do right włącznie. Lista jest modyfikowana w miejscu (in place). Rozważyć wersję iteracyjną i rekurencyjną."
   ]
  },
  {
   "cell_type": "code",
   "execution_count": 38,
   "metadata": {},
   "outputs": [
    {
     "name": "stdout",
     "output_type": "stream",
     "text": [
      "[6, 5, 3, 4, 2, 1, 7, 8, 9]\n",
      "[6, 5, 3, 4, 2, 1, 7, 8, 9]\n"
     ]
    }
   ],
   "source": [
    "def reverse_iter(L, left, right): \n",
    "    number_of_iters = int(abs((left-right)/2))\n",
    "\n",
    "    for i in range(left, number_of_iters + left):\n",
    "        left_elem = L[i]\n",
    "        right_elem = L[right - i]\n",
    "\n",
    "        L[right - i] = left_elem\n",
    "        L[i] = right_elem\n",
    "\n",
    "lista = [1,2,3,4,5,6,7,8,9]\n",
    "reverse_iter(lista, 0, 5)\n",
    "print(lista)\n",
    "\n",
    "def reverse_recursive(L, left, right):\n",
    "    if abs(left-right) == 1 or abs(left-right) == 0:\n",
    "        return\n",
    "    else:\n",
    "        left_elem = L[left]\n",
    "        right_elem = L[right]\n",
    "        L[right] = left_elem\n",
    "        L[left] = right_elem\n",
    "        left += 1\n",
    "        right -= 1\n",
    "        return reverse_recursive(L, left, right)\n",
    "\n",
    "lista = [1,2,3,4,5,6,7,8,9]\n",
    "reverse_recursive(lista, 0, 5)\n",
    "print(lista)"
   ]
  },
  {
   "cell_type": "markdown",
   "metadata": {},
   "source": [
    "# 4.7 \n",
    "Mamy daną sekwencję, w której niektóre z elementów mogą okazać się podsekwencjami, a takie zagnieżdżenia mogą się nakładać do nieograniczonej głębokości. Napisać funkcję flatten(sequence), która zwróci spłaszczoną listę wszystkich elementów sekwencji. Wskazówka: rozważyć wersję rekurencyjną, a sprawdzanie czy element jest sekwencją, wykonać przez isinstance(item, (list, tuple)). "
   ]
  },
  {
   "cell_type": "code",
   "execution_count": 49,
   "metadata": {},
   "outputs": [
    {
     "name": "stdout",
     "output_type": "stream",
     "text": [
      "[1, 2, 3, 4, 5, 6, 7, 8, 9, 10, 11, 12, 13]\n"
     ]
    }
   ],
   "source": [
    "def flatten(sequence):\n",
    "    for i in sequence:\n",
    "        if isinstance(i, (list,tuple)):\n",
    "            for j in flatten(i):\n",
    "                yield j\n",
    "        else:\n",
    "            yield i\n",
    "\n",
    "seq = [1, 2, 3, [4, 5, [6, 7, (8, 9, 10, [11, 12, [13]])]]]\n",
    "print(list(flatten(seq)))"
   ]
  },
  {
   "cell_type": "markdown",
   "metadata": {},
   "source": [
    "# 4.6\n",
    "Napisać funkcję sum_seq(sequence) obliczającą sumę liczb zawartych w sekwencji, która może zawierać zagnieżdżone podsekwencje. Wskazówka: rozważyć wersję rekurencyjną, a sprawdzanie, czy element jest sekwencją, wykonać przez isinstance(item, (list, tuple)). "
   ]
  },
  {
   "cell_type": "code",
   "execution_count": 50,
   "metadata": {},
   "outputs": [
    {
     "name": "stdout",
     "output_type": "stream",
     "text": [
      "91\n"
     ]
    }
   ],
   "source": [
    "def sum_seq(sequence):\n",
    "    return sum(list(flatten(sequence)))\n",
    "\n",
    "seq = [1, 2, 3, [4, 5, [6, 7, (8, 9, 10, [11, 12, [13]])]]]\n",
    "print((sum_seq(seq)))"
   ]
  }
 ],
 "metadata": {
  "kernelspec": {
   "display_name": "Python 3.9.6 64-bit",
   "language": "python",
   "name": "python3"
  },
  "language_info": {
   "codemirror_mode": {
    "name": "ipython",
    "version": 3
   },
   "file_extension": ".py",
   "mimetype": "text/x-python",
   "name": "python",
   "nbconvert_exporter": "python",
   "pygments_lexer": "ipython3",
   "version": "3.9.6"
  },
  "orig_nbformat": 4,
  "vscode": {
   "interpreter": {
    "hash": "31f2aee4e71d21fbe5cf8b01ff0e069b9275f58929596ceb00d14d90e3e16cd6"
   }
  }
 },
 "nbformat": 4,
 "nbformat_minor": 2
}
