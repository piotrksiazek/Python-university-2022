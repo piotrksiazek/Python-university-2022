{
 "cells": [
  {
   "cell_type": "markdown",
   "metadata": {},
   "source": [
    "# 2.10\n",
    "Mamy dany napis wielowierszowy line. Podać sposób obliczenia liczby wyrazów w napisie. Przez wyraz rozumiemy ciąg \"czarnych\" znaków, oddzielony od innych wyrazów białymi znakami (spacja, tabulacja, newline).\n",
    "\n"
   ]
  },
  {
   "cell_type": "code",
   "execution_count": 22,
   "metadata": {},
   "outputs": [
    {
     "name": "stdout",
     "output_type": "stream",
     "text": [
      "8\n"
     ]
    }
   ],
   "source": [
    "line = \"1111111 2\\n 3\\n4\\t5  6 7    \\n \\t   8 \" #powinno byc 8\n",
    "def getWordCount(string):\n",
    "    return len(line.split())\n",
    "print(getWordCount(line))"
   ]
  },
  {
   "cell_type": "markdown",
   "metadata": {},
   "source": [
    "# 2.11\n",
    "Podać sposób wyświetlania napisu word tak, aby jego znaki były rozdzielone znakiem podkreślenia."
   ]
  },
  {
   "cell_type": "code",
   "execution_count": 9,
   "metadata": {},
   "outputs": [
    {
     "name": "stdout",
     "output_type": "stream",
     "text": [
      "w_o_r_d\n"
     ]
    }
   ],
   "source": [
    "word = \"word\"\n",
    "joined = \"_\".join(word)\n",
    "print(joined)"
   ]
  },
  {
   "cell_type": "markdown",
   "metadata": {},
   "source": [
    "# 2.12\n",
    "Zbudować napis stworzony z pierwszych znaków wyrazów z wiersza line. Zbudować napis stworzony z ostatnich znaków wyrazów z wiersza line.\n",
    "Nie wiem z ilu, więc przyjmę, ze n."
   ]
  },
  {
   "cell_type": "code",
   "execution_count": 14,
   "metadata": {},
   "outputs": [
    {
     "name": "stdout",
     "output_type": "stream",
     "text": [
      "1 2\n",
      " 8 \n"
     ]
    }
   ],
   "source": [
    "def getFirst(n, line):\n",
    "    return line[:n]\n",
    "\n",
    "def getLast(n, line):\n",
    "    return line[len(line)-n:]\n",
    "\n",
    "print(getFirst(3, line))\n",
    "print(getLast(3, line))"
   ]
  },
  {
   "cell_type": "markdown",
   "metadata": {},
   "source": [
    "# 2.13\n",
    "Znaleźć łączną długość wyrazów w napisie line. Wskazówka: można skorzystać z funkcji sum()."
   ]
  },
  {
   "cell_type": "code",
   "execution_count": 18,
   "metadata": {},
   "outputs": [
    {
     "name": "stdout",
     "output_type": "stream",
     "text": [
      "9\n"
     ]
    }
   ],
   "source": [
    "print(sum([len(word) for word in line.split()]))"
   ]
  },
  {
   "cell_type": "markdown",
   "metadata": {},
   "source": [
    "# 2.14\n",
    "Znaleźć: (a) najdłuższy wyraz, (b) długość najdłuższego wyrazu w napisie line."
   ]
  },
  {
   "cell_type": "code",
   "execution_count": 25,
   "metadata": {},
   "outputs": [
    {
     "name": "stdout",
     "output_type": "stream",
     "text": [
      "najdluzszy 1111111 a jego dlugosc to 7\n"
     ]
    }
   ],
   "source": [
    "longest = max(line.split(), key=len)\n",
    "print(f'najdluzszy {longest} a jego dlugosc to {len(longest)}')"
   ]
  },
  {
   "cell_type": "markdown",
   "metadata": {},
   "source": [
    "# 2.15\n",
    "Na liście L znajdują się liczby całkowite dodatnie. Stworzyć napis będący ciągiem cyfr kolejnych liczb z listy L."
   ]
  },
  {
   "cell_type": "code",
   "execution_count": 28,
   "metadata": {},
   "outputs": [
    {
     "name": "stdout",
     "output_type": "stream",
     "text": [
      "123456789\n"
     ]
    }
   ],
   "source": [
    "L = [1, 2, 3, 4, 5, 6, 7, 8, 9]\n",
    "print(\"\".join(str(number) for number in L))"
   ]
  },
  {
   "cell_type": "markdown",
   "metadata": {},
   "source": [
    "# 2.16\n",
    "\n",
    "W tekście znajdującym się w zmiennej line zamienić ciąg znaków \"GvR\" na \"Guido van Rossum\".\n",
    "\n"
   ]
  },
  {
   "cell_type": "code",
   "execution_count": 29,
   "metadata": {},
   "outputs": [
    {
     "name": "stdout",
     "output_type": "stream",
     "text": [
      "____----Guido van Rossum----____\n"
     ]
    }
   ],
   "source": [
    "line = \"____----GvR----____\"\n",
    "replaced = line.replace(\"GvR\", \"Guido van Rossum\")\n",
    "print(replaced)"
   ]
  },
  {
   "cell_type": "markdown",
   "metadata": {},
   "source": [
    "# 2.17\n",
    "Posortować wyrazy z napisu line raz alfabetycznie, a raz pod względem długości. Wskazówka: funkcja wbudowana sorted().\n",
    "\n"
   ]
  },
  {
   "cell_type": "code",
   "execution_count": 34,
   "metadata": {},
   "outputs": [
    {
     "name": "stdout",
     "output_type": "stream",
     "text": [
      "alfabetycznie ['aaaaa', 'bb', 'ccc', 'dddd', 'ee', 'ff']\n",
      "dlugosc ['bb', 'ee', 'ff', 'ccc', 'dddd', 'aaaaa']\n"
     ]
    }
   ],
   "source": [
    "line = \"bb aaaaa ee dddd ccc ff\"\n",
    "line = line.split()\n",
    "line = sorted(line)\n",
    "print(f'alfabetycznie {line}')\n",
    "line = sorted(line, key=len)\n",
    "print(f'dlugosc {line}')"
   ]
  },
  {
   "cell_type": "markdown",
   "metadata": {},
   "source": [
    "# 2.18\n",
    "Znaleźć liczbę cyfr zero w dużej liczbie całkowitej. Wskazówka: zamienić liczbę na napis.\n",
    "\n"
   ]
  },
  {
   "cell_type": "code",
   "execution_count": 38,
   "metadata": {},
   "outputs": [
    {
     "name": "stdout",
     "output_type": "stream",
     "text": [
      "8\n"
     ]
    }
   ],
   "source": [
    "number = \"11123000333000222200\" #8 zer\n",
    "zeros = sum([1 if x == \"0\" else 0 for x in list(number)])\n",
    "print(zeros)"
   ]
  },
  {
   "cell_type": "markdown",
   "metadata": {},
   "source": [
    "# 2.19\n",
    "Na liście L mamy liczby jedno-, dwu- i trzycyfrowe dodatnie. Chcemy zbudować napis z trzycyfrowych bloków, gdzie liczby jedno- i dwucyfrowe będą miały blok dopełniony zerami, np. 007, 024. Wskazówka: str.zfill()."
   ]
  },
  {
   "cell_type": "code",
   "execution_count": 39,
   "metadata": {},
   "outputs": [
    {
     "name": "stdout",
     "output_type": "stream",
     "text": [
      "['001', '002', '012', '123', '256']\n"
     ]
    }
   ],
   "source": [
    "numbers = [1, 2, 12, 123, 256]\n",
    "filled = [str(num).zfill(3) for num in numbers]\n",
    "print(filled)"
   ]
  }
 ],
 "metadata": {
  "kernelspec": {
   "display_name": "Python 3.9.6 64-bit",
   "language": "python",
   "name": "python3"
  },
  "language_info": {
   "codemirror_mode": {
    "name": "ipython",
    "version": 3
   },
   "file_extension": ".py",
   "mimetype": "text/x-python",
   "name": "python",
   "nbconvert_exporter": "python",
   "pygments_lexer": "ipython3",
   "version": "3.9.6"
  },
  "orig_nbformat": 4,
  "vscode": {
   "interpreter": {
    "hash": "31f2aee4e71d21fbe5cf8b01ff0e069b9275f58929596ceb00d14d90e3e16cd6"
   }
  }
 },
 "nbformat": 4,
 "nbformat_minor": 2
}
